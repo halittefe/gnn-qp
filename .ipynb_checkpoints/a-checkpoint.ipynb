{
 "cells": [
  {
   "cell_type": "code",
   "execution_count": null,
   "metadata": {
    "vscode": {
     "languageId": "plaintext"
    }
   },
   "outputs": [],
   "source": [
    "import os\n",
    "import glob\n",
    "import pandas as pd\n",
    "\n",
    "root_dir = \"/home/halit/gnn-qp/data-testing\"\n",
    "# Data0, Data1, ... alt klasörlerinde Labels_feas.csv var sayıyoruz\n",
    "csv_paths = glob.glob(os.path.join(root_dir, \"Data*\", \"Labels_feas.csv\"))\n",
    "\n",
    "total_ones = 0\n",
    "total_zeros = 0\n",
    "\n",
    "for csv_path in csv_paths:\n",
    "    df = pd.read_csv(csv_path, header=None)\n",
    "    # Sadece ilk sütunda etiketler varsa:\n",
    "    labels = df.iloc[:, 0]  \n",
    "    \n",
    "    total_ones += (labels == 1).sum()\n",
    "    total_zeros += (labels == 0).sum()\n",
    "\n",
    "print(f\"Toplam 1 sayısı: {total_ones}\")\n",
    "print(f\"Toplam 0 sayısı: {total_zeros}\")\n"
   ]
  }
 ],
 "metadata": {
  "language_info": {
   "name": "python"
  }
 },
 "nbformat": 4,
 "nbformat_minor": 2
}
