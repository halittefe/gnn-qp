{
 "cells": [
  {
   "cell_type": "code",
   "execution_count": 1,
   "metadata": {
    "vscode": {
     "languageId": "plaintext"
    }
   },
   "outputs": [
    {
     "name": "stdout",
     "output_type": "stream",
     "text": [
      "Toplam 1 sayısı: 4000\n",
      "Toplam 0 sayısı: 0\n"
     ]
    }
   ],
   "source": [
    "import os\n",
    "import glob\n",
    "import pandas as pd\n",
    "\n",
    "root_dir = \"/home/halit/gnn-qp/data-testing\"\n",
    "# Data0, Data1, ... alt klasörlerinde Labels_feas.csv var sayıyoruz\n",
    "csv_paths = glob.glob(os.path.join(root_dir, \"Data*\", \"Labels_feas.csv\"))\n",
    "\n",
    "total_ones = 0\n",
    "total_zeros = 0\n",
    "\n",
    "for csv_path in csv_paths:\n",
    "    df = pd.read_csv(csv_path, header=None)\n",
    "    # Sadece ilk sütunda etiketler varsa:\n",
    "    labels = df.iloc[:, 0]  \n",
    "    \n",
    "    total_ones += (labels == 1).sum()\n",
    "    total_zeros += (labels == 0).sum()\n",
    "\n",
    "print(f\"Toplam 1 sayısı: {total_ones}\")\n",
    "print(f\"Toplam 0 sayısı: {total_zeros}\")\n"
   ]
  },
  {
   "cell_type": "code",
   "execution_count": null,
   "metadata": {},
   "outputs": [],
   "source": []
  }
 ],
 "metadata": {
  "kernelspec": {
   "display_name": "gnn-project",
   "language": "python",
   "name": "gnn-project"
  },
  "language_info": {
   "codemirror_mode": {
    "name": "ipython",
    "version": 3
   },
   "file_extension": ".py",
   "mimetype": "text/x-python",
   "name": "python",
   "nbconvert_exporter": "python",
   "pygments_lexer": "ipython3",
   "version": "3.8.20"
  }
 },
 "nbformat": 4,
 "nbformat_minor": 4
}
